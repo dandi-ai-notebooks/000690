{
 "cells": [
  {
   "cell_type": "markdown",
   "id": "3eb996b5",
   "metadata": {},
   "source": [
    "# Exploring Dandiset 000690: Allen Institute Openscope - Vision2Hippocampus Project"
   ]
  },
  {
   "cell_type": "markdown",
   "id": "25bfe439",
   "metadata": {},
   "source": [
    "> **Disclaimer:** This notebook was AI-generated to help explore Dandiset 000690. It has not been rigorously verified by human experts. Please exercise caution when interpreting the code, results, or conclusions. Independent validation is recommended before drawing firm scientific conclusions based on this analysis."
   ]
  },
  {
   "cell_type": "markdown",
   "id": "f63a8d2f",
   "metadata": {},
   "source": [
    "## Overview\n",
    "\n",
    "This notebook provides an introduction to exploring Dandiset 000690, titled \"Allen Institute Openscope - Vision2Hippocampus project\".\n",
    "\n",
    "**Dandiset Description:** Extensive research shows that visual cortical neurons respond to specific stimuli, e.g. the primary visual cortical neurons respond to bars of light with specific orientation. In contrast, the hippocampal neurons are thought to encode not specific stimuli but instead represent abstract concepts such as space, time and events. How is this abstraction computed in the mouse brain? Specifically, how does the representation of simple visual stimuli evolve from the thalamus, which is a synapse away from the retina, through primary visual cortex, higher order visual areas and all the way to hippocampus, that is farthest removed from the retina? The current OpenScope project aims to understand how the neural representations of simple and natural stimuli evolve from the LGN through V1, and most hippocampal regions, as well as some of the frontal areas. Data were collected using Neuropixels probes, measuring extracellular electrophysiology (LFP and potentially spikes, although spikes are usually in separate files) from mice presented with various visual stimuli (bars of light, movies).\n",
    "\n",
    "**Dandiset Link:** [https://dandiarchive.org/dandiset/000690](https://dandiarchive.org/dandiset/000690/draft)\n",
    "\n",
    "**Keywords:** mouse, neuropixel, extracellular electrophysiology, neocortex, hippocampus, Entorhinal cortex, excitatory, inhibitory, vision, movies\n",
    "\n",
    "**This notebook covers:**\n",
    "1. Connecting to the DANDI archive and retrieving basic Dandiset metadata.\n",
    "2. Listing assets within the Dandiset.\n",
    "3. Loading a specific NWB (Neurodata Without Borders) file containing LFP data from the Dandiset using `pynwb`, `h5py`, and `remfile` for remote streaming.\n",
    "4. Exploring basic metadata within the NWB file.\n",
    "5. Examining the structure of the electrodes table (channel information and brain regions).\n",
    "6. Loading and visualizing a short segment of LFP data from a few channels."
   ]
  },
  {
   "cell_type": "markdown",
   "id": "fc9d91ef",
   "metadata": {},
   "source": [
    "## Required Packages\n",
    "\n",
    "This notebook requires the following Python packages. It is assumed they are already installed in your environment.\n",
    "\n",
    "*   `dandi` (for interacting with the DANDI Archive API)\n",
    "*   `pynwb` (for reading NWB files)\n",
    "*   `h5py` (NWB backend for HDF5 files)\n",
    "*   `remfile` (for streaming remote HDF5 files)\n",
    "*   `numpy` (for numerical operations)\n",
    "*   `pandas` (for data manipulation, especially the electrodes table)\n",
    "*   `matplotlib` (for plotting)\n",
    "*   `seaborn` (for enhanced plotting styles)"
   ]
  },
  {
   "cell_type": "code",
   "execution_count": 1,
   "id": "9e4d603a",
   "metadata": {
    "execution": {
     "iopub.execute_input": "2025-04-28T13:38:43.197805Z",
     "iopub.status.busy": "2025-04-28T13:38:43.197503Z",
     "iopub.status.idle": "2025-04-28T13:38:45.261952Z",
     "shell.execute_reply": "2025-04-28T13:38:45.261420Z"
    }
   },
   "outputs": [
    {
     "name": "stdout",
     "output_type": "stream",
     "text": [
      "Libraries imported.\n"
     ]
    }
   ],
   "source": [
    "# Import necessary libraries\n",
    "import os\n",
    "import pynwb\n",
    "import h5py\n",
    "import remfile\n",
    "import numpy as np\n",
    "import pandas as pd\n",
    "import matplotlib.pyplot as plt\n",
    "import seaborn as sns\n",
    "from dandi.dandiapi import DandiAPIClient\n",
    "\n",
    "# Set plotting style\n",
    "sns.set_theme()\n",
    "\n",
    "# Set pandas display options for better table viewing\n",
    "pd.set_option('display.max_rows', 10)\n",
    "pd.set_option('display.max_columns', None)\n",
    "pd.set_option('display.width', 1000)\n",
    "\n",
    "print(\"Libraries imported.\")"
   ]
  },
  {
   "cell_type": "markdown",
   "id": "fd20236e",
   "metadata": {},
   "source": [
    "## Connecting to DANDI and Loading Dandiset Info\n",
    "\n",
    "We can use the `dandi-cli` library to programmatically access information about the Dandiset."
   ]
  },
  {
   "cell_type": "code",
   "execution_count": 2,
   "id": "b6f17d58",
   "metadata": {
    "execution": {
     "iopub.execute_input": "2025-04-28T13:38:45.264028Z",
     "iopub.status.busy": "2025-04-28T13:38:45.263519Z",
     "iopub.status.idle": "2025-04-28T13:38:45.531198Z",
     "shell.execute_reply": "2025-04-28T13:38:45.530696Z"
    },
    "lines_to_next_cell": 2
   },
   "outputs": [
    {
     "name": "stdout",
     "output_type": "stream",
     "text": [
      "Dandiset name: Allen Institute Openscope - Vision2Hippocampus project\n",
      "Dandiset URL: https://dandiarchive.org/dandiset/000690/draft\n",
      "Dandiset Description: Extensive research shows that visual cortical neurons respond to specific stimuli, e.g. the primary visual cortical neurons respond to bars of light with specific orientation. In contrast, the hippocampal neurons are thought to encode not specific stimuli but instead represent abstract concepts such...\n",
      "\n",
      "Listing assets...\n"
     ]
    },
    {
     "name": "stdout",
     "output_type": "stream",
     "text": [
      "\n",
      "Found 156 assets in the dataset\n",
      "\n",
      "First 5 assets:\n",
      "An error occurred while connecting to DANDI: 'RemoteBlobAsset' object has no attribute 'asset_id'\n"
     ]
    }
   ],
   "source": [
    "# Connect to DANDI archive\n",
    "try:\n",
    "    client = DandiAPIClient()\n",
    "    dandiset = client.get_dandiset(\"000690\", \"draft\") # Specify version 'draft'\n",
    "\n",
    "    # Print basic information about the Dandiset\n",
    "    metadata = dandiset.get_raw_metadata()\n",
    "    print(f\"Dandiset name: {metadata.get('name', 'N/A')}\")\n",
    "    print(f\"Dandiset URL: {metadata.get('url', 'https://dandiarchive.org/dandiset/000690/draft')}\")\n",
    "    print(f\"Dandiset Description: {metadata.get('description', 'N/A')[:300]}...\") # Print start of description\n",
    "\n",
    "    # List the assets in the Dandiset (show first 5)\n",
    "    print(\"\\nListing assets...\")\n",
    "    assets = list(dandiset.get_assets())\n",
    "    print(f\"\\nFound {len(assets)} assets in the dataset\")\n",
    "    print(\"\\nFirst 5 assets:\")\n",
    "    for asset in assets[:5]:\n",
    "        print(f\"- Path: {asset.path}, Size: {asset.size / (1024**3):.2f} GB, ID: {asset.asset_id}\")\n",
    "\n",
    "except Exception as e:\n",
    "    print(f\"An error occurred while connecting to DANDI: {e}\")"
   ]
  },
  {
   "cell_type": "markdown",
   "id": "e63df820",
   "metadata": {},
   "source": [
    "## Loading a Specific NWB File\n",
    "\n",
    "This Dandiset contains multiple NWB files, often separated by subject, session, and data type (e.g., `_ecephys.nwb`, `_image.nwb`). The `_ecephys.nwb` files typically contain electrophysiology data like LFP or spikes, grouped by probe.\n",
    "\n",
    "For this demonstration, we will load an LFP data file from `probe-0` for subject `692072`, session `1298465622`.\n",
    "\n",
    "**File Path:** `sub-692072/sub-692072_ses-1298465622_probe-0_ecephys.nwb`\n",
    "\n",
    "**Asset ID:** `ba8760f9-91fe-4c1c-97e6-590bed6a783b`\n",
    "\n",
    "We will construct the DANDI API URL for this asset and use `remfile` along with `h5py` and `pynwb` to stream the data directly without downloading the entire (potentially large) file."
   ]
  },
  {
   "cell_type": "code",
   "execution_count": 3,
   "id": "c56350f9",
   "metadata": {
    "execution": {
     "iopub.execute_input": "2025-04-28T13:38:45.532891Z",
     "iopub.status.busy": "2025-04-28T13:38:45.532652Z",
     "iopub.status.idle": "2025-04-28T13:38:46.772997Z",
     "shell.execute_reply": "2025-04-28T13:38:46.772501Z"
    },
    "lines_to_next_cell": 2
   },
   "outputs": [
    {
     "name": "stdout",
     "output_type": "stream",
     "text": [
      "NWB File URL: https://api.dandiarchive.org/api/assets/ba8760f9-91fe-4c1c-97e6-590bed6a783b/download/\n",
      "\n",
      "Opening remote NWB file stream...\n"
     ]
    },
    {
     "name": "stderr",
     "output_type": "stream",
     "text": [
      "/opt/conda/lib/python3.11/site-packages/hdmf/spec/namespace.py:535: UserWarning: Ignoring cached namespace 'hdmf-common' version 1.6.0 because version 1.8.0 is already loaded.\n",
      "  warn(\"Ignoring cached namespace '%s' version %s because version %s is already loaded.\"\n",
      "/opt/conda/lib/python3.11/site-packages/hdmf/spec/namespace.py:535: UserWarning: Ignoring cached namespace 'core' version 2.6.0-alpha because version 2.7.0 is already loaded.\n",
      "  warn(\"Ignoring cached namespace '%s' version %s because version %s is already loaded.\"\n",
      "/opt/conda/lib/python3.11/site-packages/hdmf/spec/namespace.py:535: UserWarning: Ignoring cached namespace 'hdmf-experimental' version 0.3.0 because version 0.5.0 is already loaded.\n",
      "  warn(\"Ignoring cached namespace '%s' version %s because version %s is already loaded.\"\n"
     ]
    },
    {
     "name": "stdout",
     "output_type": "stream",
     "text": [
      "NWB file loaded successfully.\n",
      "\n",
      "NWB File Object:\n",
      "root pynwb.file.NWBFile at 0x139866903974160\n",
      "Fields:\n",
      "  acquisition: {\n",
      "    probe_0_lfp <class 'pynwb.ecephys.LFP'>,\n",
      "    probe_0_lfp_data <class 'pynwb.ecephys.ElectricalSeries'>\n",
      "  }\n",
      "  devices: {\n",
      "    probeA <class 'abc.EcephysProbe'>\n",
      "  }\n",
      "  electrode_groups: {\n",
      "    probeA <class 'abc.EcephysElectrodeGroup'>\n",
      "  }\n",
      "  electrodes: electrodes <class 'hdmf.common.table.DynamicTable'>\n",
      "  file_create_date: [datetime.datetime(2025, 2, 25, 16, 39, 27, 896345, tzinfo=tzoffset(None, -28800))]\n",
      "  identifier: 0\n",
      "  institution: Allen Institute for Brain Science\n",
      "  session_description: LFP data and associated info for one probe\n",
      "  session_id: 1298465622\n",
      "  session_start_time: 2023-09-21 00:00:00-07:00\n",
      "  stimulus_notes: OpenScopeVision2Hippocampus\n",
      "  subject: subject abc.EcephysSpecimen at 0x139866889247248\n",
      "Fields:\n",
      "  age: P82D\n",
      "  age__reference: birth\n",
      "  age_in_days: 82.0\n",
      "  genotype: wt/wt\n",
      "  sex: M\n",
      "  species: Mus musculus\n",
      "  specimen_name: 692072\n",
      "  strain: Transgenic\n",
      "  subject_id: 692072\n",
      "\n",
      "  timestamps_reference_time: 2023-09-21 00:00:00-07:00\n",
      "\n"
     ]
    }
   ],
   "source": [
    "# Define the URL for the chosen NWB asset\n",
    "nwb_asset_id = \"ba8760f9-91fe-4c1c-97e6-590bed6a783b\"\n",
    "nwb_url = f\"https://api.dandiarchive.org/api/assets/{nwb_asset_id}/download/\"\n",
    "print(f\"NWB File URL: {nwb_url}\")\n",
    "\n",
    "# Initialize variables to None\n",
    "remote_file = None\n",
    "h5_file = None\n",
    "io = None\n",
    "nwb = None\n",
    "\n",
    "try:\n",
    "    print(\"\\nOpening remote NWB file stream...\")\n",
    "    # Use remfile to open a stream to the remote file\n",
    "    remote_file = remfile.File(nwb_url)\n",
    "    # Open the HDF5 file stream using h5py\n",
    "    h5_file = h5py.File(remote_file, 'r')\n",
    "    # Use pynwb to read the NWB file structure\n",
    "    io = pynwb.NWBHDF5IO(file=h5_file, mode='r', load_namespaces=True)\n",
    "    nwb = io.read()\n",
    "    print(\"NWB file loaded successfully.\")\n",
    "    # Display the basic NWB object representation\n",
    "    print(\"\\nNWB File Object:\")\n",
    "    print(nwb)\n",
    "\n",
    "except Exception as e:\n",
    "    print(f\"\\nAn error occurred while loading the NWB file: {e}\")\n",
    "    print(\"Please ensure the required libraries are installed and the URL is correct.\")\n",
    "    # Make sure to clean up if loading failed partially\n",
    "    if io:\n",
    "        io.close()\n",
    "    elif h5_file:\n",
    "        h5_file.close()\n",
    "    elif remote_file:\n",
    "        # remfile doesn't have an explicit close, relies on garbage collection\n",
    "        pass"
   ]
  },
  {
   "cell_type": "markdown",
   "id": "2220a8a7",
   "metadata": {},
   "source": [
    "### Explore NWB File on Neurosift\n",
    "\n",
    "You can interactively explore the structure and contents of this NWB file using Neurosift:\n",
    "\n",
    "[Explore on Neurosift](https://neurosift.app/nwb?url=https://api.dandiarchive.org/api/assets/ba8760f9-91fe-4c1c-97e6-590bed6a783b/download/&dandisetId=000690&dandisetVersion=draft)"
   ]
  },
  {
   "cell_type": "markdown",
   "id": "8a3987a9",
   "metadata": {},
   "source": [
    "## Exploring NWB File Contents\n",
    "\n",
    "Now that the NWB file is loaded, we can explore its metadata and data structures. Based on the filename (`_probe-0_ecephys.nwb`) and preliminary checks, we expect this file to contain LFP data and associated electrode information for probe A."
   ]
  },
  {
   "cell_type": "code",
   "execution_count": 4,
   "id": "260a1644",
   "metadata": {
    "execution": {
     "iopub.execute_input": "2025-04-28T13:38:46.774789Z",
     "iopub.status.busy": "2025-04-28T13:38:46.774548Z",
     "iopub.status.idle": "2025-04-28T13:38:46.779917Z",
     "shell.execute_reply": "2025-04-28T13:38:46.779468Z"
    },
    "lines_to_next_cell": 2
   },
   "outputs": [
    {
     "name": "stdout",
     "output_type": "stream",
     "text": [
      "--- Basic NWB File Metadata ---\n",
      "Session Description: LFP data and associated info for one probe\n",
      "Identifier: 0\n",
      "Session Start Time: 2023-09-21 00:00:00-07:00\n",
      "Institution: Allen Institute for Brain Science\n",
      "Session ID: 1298465622\n",
      "\n",
      "--- Subject Information ---\n",
      "Subject ID: 692072\n",
      "Age: P82D\n",
      "Sex: M\n",
      "Species: Mus musculus\n",
      "Genotype: wt/wt\n",
      "\n",
      "--- Available Data Structures ---\n",
      "Acquisition Objects: ['probe_0_lfp', 'probe_0_lfp_data']\n",
      "Processing Modules: None\n",
      "Units: None\n"
     ]
    }
   ],
   "source": [
    "# Print some basic metadata from the NWB file if loaded successfully\n",
    "if nwb:\n",
    "    print(\"--- Basic NWB File Metadata ---\")\n",
    "    print(f\"Session Description: {getattr(nwb, 'session_description', 'N/A')}\")\n",
    "    print(f\"Identifier: {getattr(nwb, 'identifier', 'N/A')}\")\n",
    "    print(f\"Session Start Time: {getattr(nwb, 'session_start_time', 'N/A')}\")\n",
    "    print(f\"Institution: {getattr(nwb, 'institution', 'N/A')}\")\n",
    "    print(f\"Session ID: {getattr(nwb, 'session_id', 'N/A')}\")\n",
    "\n",
    "    print(\"\\n--- Subject Information ---\")\n",
    "    if nwb.subject:\n",
    "        print(f\"Subject ID: {getattr(nwb.subject, 'subject_id', 'N/A')}\")\n",
    "        print(f\"Age: {getattr(nwb.subject, 'age', 'N/A')}\")\n",
    "        print(f\"Sex: {getattr(nwb.subject, 'sex', 'N/A')}\")\n",
    "        print(f\"Species: {getattr(nwb.subject, 'species', 'N/A')}\")\n",
    "        print(f\"Genotype: {getattr(nwb.subject, 'genotype', 'N/A')}\")\n",
    "    else:\n",
    "        print(\"Subject information not available.\")\n",
    "\n",
    "    print(\"\\n--- Available Data Structures ---\")\n",
    "    print(\"Acquisition Objects:\", list(nwb.acquisition.keys()) if nwb.acquisition else \"None\")\n",
    "    # Note: Processing modules, units etc. might be in other files or not present\n",
    "    print(\"Processing Modules:\", list(nwb.processing.keys()) if nwb.processing else \"None\")\n",
    "    print(\"Units:\", \"Available\" if nwb.units else \"None\") # Units are often in separate files\n",
    "else:\n",
    "    print(\"NWB file was not loaded successfully, skipping metadata exploration.\")"
   ]
  },
  {
   "cell_type": "markdown",
   "id": "a561e913",
   "metadata": {},
   "source": [
    "### Electrodes Table\n",
    "\n",
    "The `nwb.electrodes` table contains metadata about each recording channel, such as its location, impedance, and which probe it belongs to. Let's load it into a pandas DataFrame for easier viewing."
   ]
  },
  {
   "cell_type": "code",
   "execution_count": 5,
   "id": "96337f3b",
   "metadata": {
    "execution": {
     "iopub.execute_input": "2025-04-28T13:38:46.781506Z",
     "iopub.status.busy": "2025-04-28T13:38:46.781208Z",
     "iopub.status.idle": "2025-04-28T13:38:46.801863Z",
     "shell.execute_reply": "2025-04-28T13:38:46.801368Z"
    },
    "lines_to_next_cell": 2
   },
   "outputs": [
    {
     "name": "stdout",
     "output_type": "stream",
     "text": [
      "Loading electrodes table into pandas DataFrame...\n",
      "Electrodes table loaded.\n",
      "\n",
      "--- Electrodes Table (First 5 Rows) ---\n",
      "   location                                              group group_name  probe_vertical_position  probe_horizontal_position  probe_id  local_index  valid_data       x       y       z  imp                                          filtering\n",
      "id                                                                                                                                                                                                                                              \n",
      "2        PF  probeA abc.EcephysElectrodeGroup at 0x13986687...     probeA                       40                         59         0            2        True  7465.0  3406.0  6685.0  NaN  AP band: 500 Hz high-pass; LFP band: 1000 Hz l...\n",
      "6        TH  probeA abc.EcephysElectrodeGroup at 0x13986687...     probeA                       80                         59         0            6        True  7462.0  3371.0  6695.0  NaN  AP band: 500 Hz high-pass; LFP band: 1000 Hz l...\n",
      "10       TH  probeA abc.EcephysElectrodeGroup at 0x13986687...     probeA                      120                         59         0           10        True  7460.0  3336.0  6706.0  NaN  AP band: 500 Hz high-pass; LFP band: 1000 Hz l...\n",
      "14       TH  probeA abc.EcephysElectrodeGroup at 0x13986687...     probeA                      160                         59         0           14        True  7458.0  3293.0  6719.0  NaN  AP band: 500 Hz high-pass; LFP band: 1000 Hz l...\n",
      "18       LP  probeA abc.EcephysElectrodeGroup at 0x13986687...     probeA                      200                         59         0           18        True  7456.0  3258.0  6730.0  NaN  AP band: 500 Hz high-pass; LFP band: 1000 Hz l...\n",
      "\n",
      "--- Unique Brain Regions Recorded (Probe A) ---\n",
      "['PF' 'TH' 'LP' 'DG-mo' 'DG-sg' 'DG-po' 'CA1' 'VISa6b' 'VISa6a' 'RSPagl6a'\n",
      " 'RSPagl5' 'RSPagl2/3' 'RSPagl1' 'root']\n"
     ]
    }
   ],
   "source": [
    "if nwb and nwb.electrodes:\n",
    "    print(\"Loading electrodes table into pandas DataFrame...\")\n",
    "    try:\n",
    "        electrodes_df = nwb.electrodes.to_dataframe()\n",
    "        print(\"Electrodes table loaded.\")\n",
    "\n",
    "        print(\"\\n--- Electrodes Table (First 5 Rows) ---\")\n",
    "        print(electrodes_df.head())\n",
    "\n",
    "        # Print unique locations if the column exists\n",
    "        print(\"\\n--- Unique Brain Regions Recorded (Probe A) ---\")\n",
    "        if 'location' in electrodes_df.columns:\n",
    "            # Filter for probeA if multiple probes were in the table (unlikely here)\n",
    "            probe_a_locations = electrodes_df[electrodes_df['group_name'] == 'probeA']['location'].unique()\n",
    "            print(probe_a_locations)\n",
    "        else:\n",
    "            print(\"'location' column not found in the table.\")\n",
    "\n",
    "    except Exception as e:\n",
    "        print(f\"An error occurred while processing the electrodes table: {e}\")\n",
    "else:\n",
    "    print(\"NWB file not loaded or 'electrodes' table not found.\")"
   ]
  },
  {
   "cell_type": "markdown",
   "id": "f69da0a6",
   "metadata": {},
   "source": [
    "## Visualizing LFP Data\n",
    "\n",
    "This file contains Local Field Potential (LFP) data recorded from probe A. LFP reflects aggregate synaptic activity near the electrode. Let's access the `ElectricalSeries` containing the LFP data and plot a short segment for a few channels.\n",
    "\n",
    "The LFP data is typically found within `nwb.acquisition`. The path might vary slightly, but based on our earlier exploration, it's likely under `nwb.acquisition['probe_0_lfp'].electrical_series['probe_0_lfp_data']`."
   ]
  },
  {
   "cell_type": "code",
   "execution_count": 6,
   "id": "749b0a59",
   "metadata": {
    "execution": {
     "iopub.execute_input": "2025-04-28T13:38:46.803628Z",
     "iopub.status.busy": "2025-04-28T13:38:46.803348Z",
     "iopub.status.idle": "2025-04-28T13:38:46.813056Z",
     "shell.execute_reply": "2025-04-28T13:38:46.812599Z"
    },
    "lines_to_next_cell": 2
   },
   "outputs": [
    {
     "name": "stdout",
     "output_type": "stream",
     "text": [
      "Accessing LFP data...\n",
      "LFP data shape: (10117092, 95)\n",
      "LFP timestamps shape: (10117092,)\n",
      "Using LFP sampling rate from ElectricalSeries: None Hz\n",
      "Could not determine LFP sampling rate. Skipping LFP plot.\n"
     ]
    }
   ],
   "source": [
    "if nwb and 'probe_0_lfp' in nwb.acquisition:\n",
    "    print(\"Accessing LFP data...\")\n",
    "    try:\n",
    "        # Access LFP ElectricalSeries\n",
    "        lfp_electrical_series = nwb.acquisition['probe_0_lfp'].electrical_series['probe_0_lfp_data']\n",
    "        lfp_data = lfp_electrical_series.data\n",
    "        lfp_timestamps = lfp_electrical_series.timestamps\n",
    "        print(f\"LFP data shape: {lfp_data.shape}\") # (time, channels)\n",
    "        print(f\"LFP timestamps shape: {lfp_timestamps.shape}\")\n",
    "\n",
    "        # Get sampling rate (important for selecting time segments)\n",
    "        sampling_rate = None\n",
    "        if hasattr(lfp_electrical_series, 'rate'):\n",
    "            sampling_rate = lfp_electrical_series.rate\n",
    "            print(f\"Using LFP sampling rate from ElectricalSeries: {sampling_rate} Hz\")\n",
    "        elif 'probeA' in nwb.electrode_groups and hasattr(nwb.electrode_groups['probeA'], 'lfp_sampling_rate') and nwb.electrode_groups['probeA'].lfp_sampling_rate:\n",
    "            sampling_rate = nwb.electrode_groups['probeA'].lfp_sampling_rate\n",
    "            print(f\"Using LFP sampling rate from ElectrodeGroup: {sampling_rate} Hz\")\n",
    "        else:\n",
    "            # Estimate sampling rate from timestamps if possible\n",
    "            if len(lfp_timestamps) > 1:\n",
    "                 sampling_rate = 1.0 / (lfp_timestamps[1] - lfp_timestamps[0])\n",
    "                 print(f\"Estimated sampling rate from timestamps: {sampling_rate:.2f} Hz\")\n",
    "\n",
    "        if sampling_rate:\n",
    "            # Define parameters for plotting\n",
    "            num_channels_to_plot = 5\n",
    "            start_time_s = 20.5  # Start time in seconds (chosen based on exploration)\n",
    "            duration_s = 0.5    # Duration to plot in seconds\n",
    "\n",
    "            # Calculate start and end indices\n",
    "            start_index = int(start_time_s * sampling_rate)\n",
    "            end_index = start_index + int(duration_s * sampling_rate)\n",
    "\n",
    "            # Ensure indices are within bounds\n",
    "            if start_index < 0: start_index = 0\n",
    "            if end_index > len(lfp_timestamps): end_index = len(lfp_timestamps)\n",
    "            if start_index >= end_index:\n",
    "                 print(\"Warning: Calculated time range is invalid or too short.\")\n",
    "\n",
    "            print(f\"\\nLoading LFP data from {start_time_s:.2f}s to {start_time_s + duration_s:.2f}s for first {num_channels_to_plot} channels...\")\n",
    "\n",
    "            # Select the time segment for timestamps and data\n",
    "            # Important: Load data segment directly using slicing for efficiency\n",
    "            ts_segment = lfp_timestamps[start_index:end_index]\n",
    "            data_segment = lfp_data[start_index:end_index, :num_channels_to_plot] # Slicing HDF5 dataset\n",
    "\n",
    "            # Get actual channel IDs for the plotted channels from the DataFrame\n",
    "            channel_ids = ['Unknown'] * num_channels_to_plot\n",
    "            if 'electrodes_df' in locals():\n",
    "                valid_indices = electrodes_df.index[:num_channels_to_plot]\n",
    "                channel_ids = valid_indices.tolist()\n",
    "                print(f\"Plotting data for Channel IDs: {channel_ids}\")\n",
    "\n",
    "\n",
    "            # --- Plotting ---\n",
    "            print(\"Generating plot...\")\n",
    "            plt.figure(figsize=(15, 6))\n",
    "\n",
    "            # Offset traces for better visibility\n",
    "            # Calculate offset based on std dev of the loaded segment\n",
    "            if data_segment.size > 0 :\n",
    "              offset_scale = 3 # Adjust this multiplier to control separation\n",
    "              offset = np.std(data_segment) * offset_scale\n",
    "              if offset == 0: offset = np.mean(np.abs(data_segment))*offset_scale*2 if np.mean(np.abs(data_segment)) > 0 else 1 # Handle zero std/mean case\n",
    "\n",
    "              for i in range(data_segment.shape[1]):\n",
    "                  plt.plot(ts_segment, data_segment[:, i] + i * offset, label=f'Channel {channel_ids[i]}')\n",
    "\n",
    "              plt.title(f'LFP Data Segment ({duration_s}s, {num_channels_to_plot} Channels)')\n",
    "              plt.xlabel('Time (s)')\n",
    "              plt.ylabel(f'Voltage ({lfp_electrical_series.unit}) offsetted')\n",
    "              plt.legend(loc='upper right')\n",
    "              plt.grid(True)\n",
    "              plt.show()\n",
    "            else:\n",
    "              print(\"No data loaded for the specified time range or channels.\")\n",
    "\n",
    "        else:\n",
    "            print(\"Could not determine LFP sampling rate. Skipping LFP plot.\")\n",
    "\n",
    "    except KeyError as e:\n",
    "        print(f\"KeyError accessing LFP data: {e}. Structure might be different.\")\n",
    "    except Exception as e:\n",
    "        print(f\"An error occurred while accessing or plotting LFP data: {e}\")\n",
    "        import traceback\n",
    "        traceback.print_exc()\n",
    "\n",
    "else:\n",
    "    print(\"NWB file not loaded or 'probe_0_lfp' not found in acquisition. Skipping LFP plot.\")"
   ]
  },
  {
   "cell_type": "markdown",
   "id": "b586bba5",
   "metadata": {},
   "source": [
    "## Summary and Next Steps\n",
    "\n",
    "This notebook demonstrated how to:\n",
    "*   Connect to the DANDI Archive and retrieve metadata for Dandiset 000690.\n",
    "*   List assets within the Dandiset.\n",
    "*   Load a specific NWB file containing LFP data using remote streaming.\n",
    "*   Inspect basic metadata within the NWB file (session info, subject details).\n",
    "*   Examine the `electrodes` table to understand channel properties and recorded brain regions (including Thalamus, Hippocampus, Visual Cortex, RSP).\n",
    "*   Load and visualize a segment of LFP data, showing electrical activity traces over time.\n",
    "\n",
    "**Potential Next Steps:**\n",
    "*   **Explore other NWB files:** Analyze files from different subjects, sessions, or probes. Look for files potentially containing spike data (`Units` table) if available. There are also `_image.nwb` files which might contain visual stimulus information or imaging data not explored here.\n",
    "*   **Analyze different time segments:** Investigate LFP activity during specific visual stimulus presentations (if stimulus timing information is available in related files or metadata).\n",
    "*   **Frequency analysis:** Perform spectral analysis (e.g., using Welch's method) on the LFP data to examine power in different frequency bands (theta, gamma, etc.) across regions or conditions.\n",
    "*   **Cross-channel analysis:** Calculate coherence or correlation between LFP signals recorded on different channels or in different brain regions.\n",
    "*   **Relate to behavior/stimulus:** If stimulus tables or behavioral data are present (potentially in the main session file or `_image.nwb` file), align neural activity with specific events.\n",
    "\n",
    "Remember to close the NWB file connection when finished to release resources."
   ]
  },
  {
   "cell_type": "code",
   "execution_count": 7,
   "id": "19bf7613",
   "metadata": {
    "execution": {
     "iopub.execute_input": "2025-04-28T13:38:46.814602Z",
     "iopub.status.busy": "2025-04-28T13:38:46.814316Z",
     "iopub.status.idle": "2025-04-28T13:38:46.818251Z",
     "shell.execute_reply": "2025-04-28T13:38:46.817803Z"
    }
   },
   "outputs": [
    {
     "name": "stdout",
     "output_type": "stream",
     "text": [
      "Closing NWB file.\n",
      "Notebook execution finished.\n"
     ]
    }
   ],
   "source": [
    "# Close the NWB file to release the stream\n",
    "if io:\n",
    "    print(\"Closing NWB file.\")\n",
    "    io.close()\n",
    "    # Optionally, clear variables to save memory\n",
    "    # nwb = None\n",
    "    # h5_file = None\n",
    "    # remote_file = None\n",
    "    # io = None\n",
    "print(\"Notebook execution finished.\")"
   ]
  }
 ],
 "metadata": {
  "jupytext": {
   "cell_metadata_filter": "-all",
   "main_language": "python",
   "notebook_metadata_filter": "-all"
  },
  "language_info": {
   "codemirror_mode": {
    "name": "ipython",
    "version": 3
   },
   "file_extension": ".py",
   "mimetype": "text/x-python",
   "name": "python",
   "nbconvert_exporter": "python",
   "pygments_lexer": "ipython3",
   "version": "3.11.10"
  }
 },
 "nbformat": 4,
 "nbformat_minor": 5
}
