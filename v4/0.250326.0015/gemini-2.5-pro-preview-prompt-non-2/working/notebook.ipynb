{
 "cells": [
  {
   "cell_type": "markdown",
   "id": "d4e8176e",
   "metadata": {},
   "source": [
    "# Exploring Dandiset 000690: Allen Institute Openscope - Vision2Hippocampus project\n",
    "\n",
    "**Dandiset Version: 0.250326.0015**"
   ]
  },
  {
   "cell_type": "markdown",
   "id": "0807f987",
   "metadata": {},
   "source": [
    "> ⚠️ **Disclaimer:** This notebook was AI-generated and has not been fully verified. Please be cautious when interpreting the code or results."
   ]
  },
  {
   "cell_type": "markdown",
   "id": "ff26dbf0",
   "metadata": {},
   "source": [
    "## Overview of the Dandiset\n",
    "\n",
    "This Dandiset, titled \"Allen Institute Openscope - Vision2Hippocampus project,\" contains data related to an experiment investigating how neural representations of visual stimuli evolve from the thalamus through visual cortex to the hippocampus in mice.\n",
    "\n",
    "The project aims to understand how the brain computes abstractions from simple visual stimuli to more complex representations. Mice were presented with simple visual motion (bars of light with varying properties) and complex visual stimuli (movies).\n",
    "\n",
    "**Key information:**\n",
    "- **Dandiset Identifier:** 000690\n",
    "- **Version:** 0.250326.0015\n",
    "- **Dandiset URL:** [https://dandiarchive.org/dandiset/000690/0.250326.0015](https://dandiarchive.org/dandiset/000690/0.250326.0015)\n",
    "- **Description:** Extensive research shows that visual cortical neurons respond to specific stimuli, e.g. the primary visual cortical neurons respond to bars of light with specific orientation. In contrast, the hippocampal neurons are thought to encode not specific stimuli but instead represent abstract concepts such as space, time and events. How is this abstraction computed in the mouse brain? Specifically, how does the representation of simple visual stimuli evolve from the thalamus, which is a synapse away from the retina, through primary visual cortex, higher order visual areas and all the way to hippocampus, that is farthest removed from the retina? The current OpenScope project aims to understand how the neural representations of simple and natural stimuli evolve from the LGN through V1, and most hippocampal regions, as well as some of the frontal areas.\n",
    "- **Keywords:** mouse, neuropixel, extracellular electrophysiology, neocortex, hippocampus, Entorhinal cortex, excitatory, inhibitory, vision, movies.\n",
    "- **Measurement Techniques:** multi electrode extracellular electrophysiology recording technique, signal filtering technique, spike sorting technique, analytical technique."
   ]
  },
  {
   "cell_type": "markdown",
   "id": "9023935c",
   "metadata": {},
   "source": [
    "## What this notebook covers\n",
    "\n",
    "This notebook will guide you through the following steps:\n",
    "1. Listing the required Python packages.\n",
    "2. Demonstrating how to load the Dandiset metadata using the DANDI API.\n",
    "3. Showing how to load a specific Neurophysiology: Neurodata Without Borders (NWB) file from the Dandiset.\n",
    "4. Displaying some metadata from the loaded NWB file.\n",
    "5. Summarizing the contents of the NWB file.\n",
    "6. Providing a link to explore the NWB file interactively using Neurosift.\n",
    "7. Illustrating how to load and visualize some example data from the NWB file, such as eye tracking and running speed.\n",
    "8. Summarizing the findings and suggesting potential future analysis directions."
   ]
  },
  {
   "cell_type": "markdown",
   "id": "b3767813",
   "metadata": {},
   "source": [
    "## Required Packages\n",
    "\n",
    "To run this notebook, you'll need the following Python packages. We assume these are already installed on your system.\n",
    "\n",
    "- `dandi` (for interacting with the DANDI Archive)\n",
    "- `pynwb` (for working with NWB files)\n",
    "- `h5py` (for HDF5 file access, a dependency of pynwb)\n",
    "- `remfile` (for accessing remote HDF5 files)\n",
    "- `numpy` (for numerical operations)\n",
    "- `matplotlib` (for plotting)\n",
    "- `pandas` (for data manipulation and viewing tables)\n",
    "- `seaborn` (for enhanced visualizations)"
   ]
  },
  {
   "cell_type": "markdown",
   "id": "da08da7a",
   "metadata": {},
   "source": [
    "## Loading the Dandiset using the DANDI API"
   ]
  },
  {
   "cell_type": "code",
   "execution_count": null,
   "id": "9f85f320",
   "metadata": {},
   "outputs": [],
   "source": [
    "from itertools import islice\n",
    "from dandi.dandiapi import DandiAPIClient\n",
    "import numpy as np\n",
    "import matplotlib.pyplot as plt\n",
    "import pandas as pd\n",
    "import pynwb\n",
    "import h5py\n",
    "import remfile\n",
    "import seaborn as sns\n",
    "\n",
    "# Set seaborn style for plots (except for images)\n",
    "sns.set_theme()"
   ]
  },
  {
   "cell_type": "code",
   "execution_count": null,
   "id": "0b18da40",
   "metadata": {},
   "outputs": [],
   "source": [
    "# Connect to DANDI archive\n",
    "client = DandiAPIClient()\n",
    "dandiset_id = \"000690\"\n",
    "dandiset_version = \"0.250326.0015\"\n",
    "dandiset = client.get_dandiset(dandiset_id, dandiset_version)"
   ]
  },
  {
   "cell_type": "code",
   "execution_count": null,
   "id": "072916e3",
   "metadata": {},
   "outputs": [],
   "source": [
    "# Print basic information about the Dandiset\n",
    "metadata = dandiset.get_raw_metadata()\n",
    "print(f\"Dandiset name: {metadata['name']}\")\n",
    "print(f\"Dandiset URL: {metadata['url']}\")\n",
    "print(f\"Dandiset description: {metadata.get('description', 'N/A')[:200]}...\") # Print first 200 characters"
   ]
  },
  {
   "cell_type": "code",
   "execution_count": null,
   "id": "98f6c9e6",
   "metadata": {},
   "outputs": [],
   "source": [
    "# List some assets in the Dandiset\n",
    "assets = dandiset.get_assets()\n",
    "print(\"\\nFirst 5 assets:\")\n",
    "for asset in islice(assets, 5):\n",
    "    print(f\"- {asset.path} (ID: {asset.asset_id})\") # Using asset_id as identifier"
   ]
  },
  {
   "cell_type": "markdown",
   "id": "e1f79260",
   "metadata": {},
   "source": [
    "## Loading an NWB File\n",
    "\n",
    "We will now load one of the NWB files from the Dandiset to explore its contents.\n",
    "\n",
    "For this demonstration, we will load the file: `sub-692072/sub-692072_ses-1298465622.nwb`.\n",
    "\n",
    "The asset ID for this file is `fbcd4fe5-7107-41b2-b154-b67f783f23dc`.\n",
    "\n",
    "We can construct the direct download URL for this asset as follows:\n",
    "`https://api.dandiarchive.org/api/assets/fbcd4fe5-7107-41b2-b154-b67f783f23dc/download/`"
   ]
  },
  {
   "cell_type": "code",
   "execution_count": null,
   "id": "9f11ccc9",
   "metadata": {},
   "outputs": [],
   "source": [
    "# Define the URL for the NWB file\n",
    "nwb_asset_id = \"fbcd4fe5-7107-41b2-b154-b67f783f23dc\"\n",
    "nwb_file_url = f\"https://api.dandiarchive.org/api/assets/{nwb_asset_id}/download/\"\n",
    "print(f\"Loading NWB file from: {nwb_file_url}\")\n",
    "\n",
    "# Load the NWB file\n",
    "# This uses remfile to stream the remote HDF5 file\n",
    "remote_file = remfile.File(nwb_file_url)\n",
    "h5_file = h5py.File(remote_file, 'r') # Ensure read-only mode\n",
    "io = pynwb.NWBHDF5IO(file=h5_file, mode='r') # Ensure read-only mode for pynwb\n",
    "nwbfile = io.read()\n",
    "\n",
    "print(\"\\nNWB file loaded successfully.\")"
   ]
  },
  {
   "cell_type": "markdown",
   "id": "7d6779a3",
   "metadata": {},
   "source": [
    "### NWB File Metadata\n",
    "\n",
    "Let's look at some basic metadata from the loaded NWB file."
   ]
  },
  {
   "cell_type": "code",
   "execution_count": null,
   "id": "df8f0de6",
   "metadata": {},
   "outputs": [],
   "source": [
    "print(f\"Session Description: {nwbfile.session_description}\")\n",
    "print(f\"Identifier: {nwbfile.identifier}\")\n",
    "print(f\"Session Start Time: {nwbfile.session_start_time}\")\n",
    "if nwbfile.subject:\n",
    "    print(f\"Subject ID: {nwbfile.subject.subject_id}\")\n",
    "    print(f\"Subject Age: {nwbfile.subject.age}\")\n",
    "    print(f\"Subject Sex: {nwbfile.subject.sex}\")\n",
    "    print(f\"Subject Species: {nwbfile.subject.species}\")\n",
    "else:\n",
    "    print(\"Subject information: Not available\")"
   ]
  },
  {
   "cell_type": "markdown",
   "id": "35fd0c12",
   "metadata": {},
   "source": [
    "### Neurosift Link\n",
    "\n",
    "You can explore this NWB file interactively on Neurosift using the following link:\n",
    "\n",
    "[https://neurosift.app/nwb?url=https://api.dandiarchive.org/api/assets/fbcd4fe5-7107-41b2-b154-b67f783f23dc/download/&dandisetId=000690&dandisetVersion=draft](https://neurosift.app/nwb?url=https://api.dandiarchive.org/api/assets/fbcd4fe5-7107-41b2-b154-b67f783f23dc/download/&dandisetId=000690&dandisetVersion=draft)\n",
    "\n",
    "*(Note: The Neurosift link uses `dandisetVersion=draft` as specific version linking might vary in behavior or availability)*"
   ]
  },
  {
   "cell_type": "markdown",
   "id": "fd63522d",
   "metadata": {},
   "source": [
    "### Summarizing NWB File Contents\n",
    "\n",
    "NWB files have a hierarchical structure. Let's explore some of the main groups and datasets within this file."
   ]
  },
  {
   "cell_type": "markdown",
   "id": "1d097a93",
   "metadata": {},
   "source": [
    "#### Acquisition Data\n",
    "\n",
    "This group typically contains raw acquired data."
   ]
  },
  {
   "cell_type": "code",
   "execution_count": null,
   "id": "f6dc03c1",
   "metadata": {},
   "outputs": [],
   "source": [
    "if nwbfile.acquisition:\n",
    "    print(\"Available data in 'acquisition':\")\n",
    "    for acq_name, acq_data in nwbfile.acquisition.items():\n",
    "        print(f\"- {acq_name} (type: {type(acq_data).__name__})\")\n",
    "        if hasattr(acq_data, 'data') and hasattr(acq_data.data, 'shape'):\n",
    "             print(f\"  Shape: {acq_data.data.shape}\")\n",
    "        if isinstance(acq_data, pynwb.base.TimeSeries) and hasattr(acq_data, 'timestamps') and hasattr(acq_data.timestamps, 'shape'):\n",
    "             print(f\"  Timestamps shape: {acq_data.timestamps.shape}\")\n",
    "        elif isinstance(acq_data, pynwb.behavior.Position): # For EyeTracking\n",
    "            for spatial_series_name, spatial_series in acq_data.spatial_series.items():\n",
    "                print(f\"  - {spatial_series_name} (type: {type(spatial_series).__name__})\")\n",
    "                if hasattr(spatial_series, 'data') and hasattr(spatial_series.data, 'shape'):\n",
    "                    print(f\"    Data shape: {spatial_series.data.shape}\")\n",
    "                if hasattr(spatial_series, 'timestamps') and_link = hasattr(spatial_series.timestamps, 'shape'):  # Corrected: and_link to and\n",
    "                    print(f\"    Timestamps shape: {spatial_series.timestamps.shape if hasattr(spatial_series.timestamps, 'shape') else 'N/A'}\")\n",
    "\n",
    "else:\n",
    "    print(\"'acquisition' group is empty or not present.\")"
   ]
  },
  {
   "cell_type": "markdown",
   "id": "1b34955d",
   "metadata": {},
   "source": [
    "#### Processing Data\n",
    "\n",
    "This group often contains processed data derived from the raw acquisition."
   ]
  },
  {
   "cell_type": "code",
   "execution_count": null,
   "id": "38cf04b9",
   "metadata": {},
   "outputs": [],
   "source": [
    "if nwbfile.processing:\n",
    "    print(\"\\nAvailable data in 'processing':\")\n",
    "    for proc_module_name, proc_module in nwbfile.processing.items():\n",
    "        print(f\"- Processing module: {proc_module_name}\")\n",
    "        for data_interface_name, data_interface in proc_module.data_interfaces.items():\n",
    "            print(f\"  - {data_interface_name} (type: {type(data_interface).__name__})\")\n",
    "            if hasattr(data_interface, 'data') and hasattr(data_interface.data, 'shape'):\n",
    "                 print(f\"    Shape: {data_interface.data.shape}\")\n",
    "            if isinstance(data_interface, pynwb.base.TimeSeries) and hasattr(data_interface, 'timestamps') and hasattr(data_interface.timestamps, 'shape'):\n",
    "                 print(f\"    Timestamps shape: {data_interface.timestamps.shape}\")\n",
    "else:\n",
    "    print(\"\\n'processing' group is empty or not present.\")"
   ]
  },
  {
   "cell_type": "markdown",
   "id": "9afc54c8",
   "metadata": {},
   "source": [
    "#### Units Data (Spike Times)\n",
    "\n",
    "If spike sorting has been performed, this table contains information about putative neurons (units), including their spike times."
   ]
  },
  {
   "cell_type": "code",
   "execution_count": null,
   "id": "06ba5c44",
   "metadata": {},
   "outputs": [],
   "source": [
    "if nwbfile.units:\n",
    "    print(\"\\nUnits data (spike times):\")\n",
    "    # Displaying units as a pandas DataFrame can be very informative\n",
    "    # We select a few representative columns to display.\n",
    "    # Note: Accessing all columns with to_dataframe() might be slow for large unit tables.\n",
    "    # It's better to select columns of interest.\n",
    "    desired_columns = ['id', 'spike_times', 'electrodes', 'electrode_group', 'waveform_mean', 'quality']\n",
    "    # Filter out columns that don't exist to avoid errors\n",
    "    available_columns = [col for col in desired_columns if col in nwbfile.units.colnames]\n",
    "\n",
    "    if available_columns:\n",
    "        units_df = nwbfile.units[available_columns].to_dataframe()\n",
    "        print(f\"Number of units: {len(units_df)}\")\n",
    "        print(\"First 5 units (selected columns):\")\n",
    "        # For 'spike_times' and 'waveform_mean', which are ragged arrays,\n",
    "        # the DataFrame will contain object arrays. We can show their shapes or a snippet.\n",
    "        \n",
    "        # Create a display DataFrame for better printing\n",
    "        display_df = pd.DataFrame()\n",
    "        for col in available_columns:\n",
    "            if col == 'spike_times':\n",
    "                display_df[col] = units_df[col].apply(lambda x: f\"shape {x.shape}\" if hasattr(x, 'shape') else x)\n",
    "            elif col == 'waveform_mean':\n",
    "                 display_df[col] = units_df[col].apply(lambda x: f\"shape {x.shape}\" if hasattr(x, 'shape') else x)\n",
    "            elif col == 'electrodes': # Electrodes is a DynamicTableRegion, show indices\n",
    "                display_df[col] = units_df[col].apply(lambda x: x[:] if hasattr(x, '__getitem__') else x)\n",
    "            else:\n",
    "                display_df[col] = units_df[col]\n",
    "        print(display_df.head())\n",
    "    else:\n",
    "        print(\"Units table is present but no standard columns found for display.\")\n",
    "\n",
    "else:\n",
    "    print(\"\\n'units' data is not present in this file.\")"
   ]
  },
  {
   "cell_type": "markdown",
   "id": "2b1e0b82",
   "metadata": {},
   "source": [
    "#### Stimulus Presentations\n",
    "\n",
    "Information about presented stimuli is often stored in `nwbfile.intervals`."
   ]
  },
  {
   "cell_type": "code",
   "execution_count": null,
   "id": "594de594",
   "metadata": {},
   "outputs": [],
   "source": [
    "if nwbfile.intervals:\n",
    "    print(\"\\nAvailable stimulus presentation intervals:\")\n",
    "    for interval_name, interval_data in nwbfile.intervals.items():\n",
    "        print(f\"- {interval_name} (type: {type(interval_data).__name__})\")\n",
    "        # Displaying a few rows of each interval table using pandas\n",
    "        try:\n",
    "            interval_df = interval_data.to_dataframe()\n",
    "            print(f\"  Number of intervals: {len(interval_df)}\")\n",
    "            print(f\"  Columns: {list(interval_df.columns)}\")\n",
    "            print(\"  First 2 entries:\")\n",
    "            print(interval_df.head(2))\n",
    "        except Exception as e:\n",
    "            print(f\"  Could not convert {interval_name} to DataFrame: {e}\")\n",
    "else:\n",
    "    print(\"\\n'intervals' data is not present.\")"
   ]
  },
  {
   "cell_type": "markdown",
   "id": "f19d7b23",
   "metadata": {},
   "source": [
    "## Visualizing Data from the NWB File\n",
    "\n",
    "Let's visualize some of the data. We'll be careful to load only subsets of large datasets to avoid excessive download times and memory usage."
   ]
  },
  {
   "cell_type": "markdown",
   "id": "810ac28a",
   "metadata": {},
   "source": [
    "### Example 1: Pupil Area\n",
    "\n",
    "The file contains eye tracking data, including pupil area. Let's plot the pupil area over a short period."
   ]
  },
  {
   "cell_type": "code",
   "execution_count": null,
   "id": "06436d46",
   "metadata": {},
   "outputs": [],
   "source": [
    "if 'EyeTracking' in nwbfile.acquisition and \\\n",
    "   'pupil_tracking' in nwbfile.acquisition['EyeTracking'].spatial_series:\n",
    "    pupil_tracking = nwbfile.acquisition['EyeTracking'].spatial_series['pupil_tracking']\n",
    "\n",
    "    # Check if area and timestamps are available\n",
    "    if hasattr(pupil_tracking, 'area') and pupil_tracking.area is not None and \\\n",
    "       hasattr(pupil_tracking, 'timestamps') and pupil_tracking.timestamps is not None:\n",
    "\n",
    "        print(f\"Pupil area data shape: {pupil_tracking.area.shape}\")\n",
    "        print(f\"Pupil timestamps shape: {pupil_tracking.timestamps.shape}\")\n",
    "\n",
    "        # Determine a subset of data to plot (e.g., first 1000 points or first 10 seconds)\n",
    "        num_points_to_plot = min(1000, len(pupil_tracking.timestamps))\n",
    "        \n",
    "        # Find the index for the first ~10 seconds of data if sampling rate is known\n",
    "        # Assuming timestamps are in seconds.\n",
    "        # If timestamps are regularly sampled, we can estimate. Otherwise, find index by time.\n",
    "        # For simplicity, we plot the first num_points_to_plot\n",
    "        \n",
    "        time_slice = slice(0, num_points_to_plot)\n",
    "        \n",
    "        try:\n",
    "            pupil_area_data = pupil_tracking.area[time_slice]\n",
    "            timestamps_data = pupil_tracking.timestamps[time_slice]\n",
    "\n",
    "            if timestamps_data.ndim > 1: # If timestamps are in intervals (start, stop)\n",
    "                 timestamps_data = timestamps_data[:, 0] # Use start times\n",
    "\n",
    "            plt.figure(figsize=(12, 6))\n",
    "            plt.plot(timestamps_data, pupil_area_data)\n",
    "            plt.xlabel(f\"Time ({pupil_tracking.timestamps_unit})\")\n",
    "            plt.ylabel(f\"Pupil Area ({pupil_tracking.unit if hasattr(pupil_tracking, 'unit') else 'unknown units'})\")\n",
    "            plt.title(f\"Pupil Area (First {num_points_to_plot} samples)\")\n",
    "            plt.grid(True)\n",
    "            plt.show()\n",
    "\n",
    "        except Exception as e:\n",
    "            print(f\"Could not plot pupil area: {e}\")\n",
    "            print(\"This might be due to the data being very large or an issue with accessing a slice.\")\n",
    "            print(\"Consider checking the structure of pupil_tracking.area and pupil_tracking.timestamps in more detail.\")\n",
    "            print(f\"pupil_tracking.area type: {type(pupil_tracking.area)}\")\n",
    "            print(f\"pupil_tracking.timestamps type: {type(pupil_tracking.timestamps)}\")\n",
    "\n",
    "    else:\n",
    "        print(\"Pupil area or timestamps data not available in 'EyeTracking/pupil_tracking'.\")\n",
    "else:\n",
    "    print(\"'EyeTracking' or 'pupil_tracking' not found in acquisition data.\")"
   ]
  },
  {
   "cell_type": "markdown",
   "id": "bf365356",
   "metadata": {},
   "source": [
    "### Example 2: Running Speed\n",
    "\n",
    "The file contains running speed data in the `processing` module. Let's plot this."
   ]
  },
  {
   "cell_type": "code",
   "execution_count": null,
   "id": "f49c1e59",
   "metadata": {},
   "outputs": [],
   "source": [
    "if 'running' in nwbfile.processing and \\\n",
    "   'running_speed' in nwbfile.processing['running'].data_interfaces:\n",
    "    running_speed_ts = nwbfile.processing['running'].data_interfaces['running_speed']\n",
    "\n",
    "    if hasattr(running_speed_ts, 'data') and running_speed_ts.data is not None and \\\n",
    "       hasattr(running_speed_ts, 'timestamps') and running_speed_ts.timestamps is not None:\n",
    "\n",
    "        print(f\"Running speed data shape: {running_speed_ts.data.shape}\")\n",
    "        print(f\"Running speed timestamps shape: {running_speed_ts.timestamps.shape}\")\n",
    "\n",
    "        # Determine a subset of data to plot\n",
    "        num_points_to_plot = min(2000, len(running_speed_ts.timestamps))\n",
    "        time_slice = slice(0, num_points_to_plot)\n",
    "\n",
    "        try:\n",
    "            running_speed_data = running_speed_ts.data[time_slice]\n",
    "            timestamps_data = running_speed_ts.timestamps[time_slice]\n",
    "\n",
    "            plt.figure(figsize=(12, 6))\n",
    "            plt.plot(timestamps_data, running_speed_data)\n",
    "            plt.xlabel(f\"Time ({running_speed_ts.timestamps_unit})\")\n",
    "            plt.ylabel(f\"Running Speed ({running_speed_ts.unit})\")\n",
    "            plt.title(f\"Running Speed (First {num_points_to_plot} samples)\")\n",
    "            plt.grid(True)\n",
    "            plt.show()\n",
    "\n",
    "        except Exception as e:\n",
    "            print(f\"Could not plot running speed: {e}\")\n",
    "            print(\"This might be due to the data being very large or an issue with accessing a slice.\")\n",
    "    else:\n",
    "        print(\"Running speed data or timestamps not available.\")\n",
    "else:\n",
    "    print(\"'running/running_speed' not found in processing data.\")"
   ]
  },
  {
   "cell_type": "markdown",
   "id": "97d40d46",
   "metadata": {},
   "source": [
    "### Example 3: Unit Spike Times (Raster Plot for a few units)\n",
    "\n",
    "If unit data is available, we can create a simple raster plot for a small number of units over a short time window.\n",
    "A full raster plot for all units and the entire session can be very dense and computationally intensive."
   ]
  },
  {
   "cell_type": "code",
   "execution_count": null,
   "id": "a906089a",
   "metadata": {},
   "outputs": [],
   "source": [
    "if nwbfile.units:\n",
    "    print(\"\\nAttempting to create a raster plot for a few units...\")\n",
    "    units_df = nwbfile.units.to_dataframe() # Get the full dataframe to access spike times\n",
    "\n",
    "    num_units_to_plot = min(10, len(units_df)) # Plot up to 10 units\n",
    "    plot_duration_seconds = 10 # Plot spikes within the first 10 seconds of the recording\n",
    "\n",
    "    plt.figure(figsize=(12, 6))\n",
    "    \n",
    "    event_times_list = []\n",
    "    unit_ids_for_plot = []\n",
    "\n",
    "    for i in range(num_units_to_plot):\n",
    "        unit_id = units_df.index[i] # This assumes default integer index; or use 'id' column if exists\n",
    "        if 'id' in units_df.columns: # prefer actual unit IDs if available\n",
    "            unit_id_val = units_df['id'].iloc[i]\n",
    "        else:\n",
    "            unit_id_val = unit_id\n",
    "\n",
    "        spike_times_all = nwbfile.units['spike_times'][i] # Access spike times by index is more direct\n",
    "        \n",
    "        # Filter spike times for the desired duration\n",
    "        spike_times_in_window = spike_times_all[spike_times_all < plot_duration_seconds]\n",
    "        \n",
    "        if len(spike_times_in_window) > 0:\n",
    "            event_times_list.append(spike_times_in_window)\n",
    "            unit_ids_for_plot.append(unit_id_val)\n",
    "\n",
    "    if event_times_list:\n",
    "        colors = plt.cm.viridis(np.linspace(0, 1, len(event_times_list)))\n",
    "        plt.eventplot(event_times_list, linelengths=0.75, colors=colors)\n",
    "        plt.yticks(np.arange(len(unit_ids_for_plot)), unit_ids_for_plot)\n",
    "        plt.xlabel(\"Time (s)\")\n",
    "        plt.ylabel(\"Unit ID\")\n",
    "        plt.title(f\"Spike Raster (First {num_units_to_plot} Units, First {plot_duration_seconds} s)\")\n",
    "        plt.grid(True, axis='x')\n",
    "        plt.show()\n",
    "    else:\n",
    "        print(\"No spikes found in the selected time window for the chosen units, or no units to plot.\")\n",
    "else:\n",
    "    print(\"No units data available for raster plot.\")"
   ]
  },
  {
   "cell_type": "markdown",
   "id": "6e4af8ca",
   "metadata": {},
   "source": [
    "## Summary of Findings and Future Directions\n",
    "\n",
    "This notebook demonstrated how to:\n",
    "- Access and understand metadata for Dandiset 000690.\n",
    "- Load an NWB file from this Dandiset using its URL.\n",
    "- Explore the basic structure and metadata within the NWB file, including acquisition, processing, units, and stimulus interval data.\n",
    "- Visualize example data streams such as pupil area, running speed, and a simple spike raster.\n",
    "\n",
    "### Potential Future Directions:\n",
    "\n",
    "1.  **Detailed Stimulus-Response Analysis:** Correlate neural activity (spike times from `nwbfile.units`) with specific stimulus presentation times found in `nwbfile.intervals`. This could involve creating peri-stimulus time histograms (PSTHs) for different visual stimuli.\n",
    "2.  **Behavioral Correlations:** Investigate how behavioral variables like running speed or pupil diameter modulate neural responses. For example, analyze if firing rates of certain units change when the animal is running versus stationary during visual stimulation.\n",
    "3.  **Cross-Probe Analysis:** If the Dandiset contains data from multiple ephys probes (as suggested by `probe-X_ecephys.nwb` asset names, though this specific file `sub-692072_ses-1298465622.nwb` is a general session file), one could explore correlations or differential responses across brain regions targeted by these probes. This would involve loading the corresponding `_ecephys.nwb` files.\n",
    "4.  **LFP Analysis:** The `electrode_groups` metadata mentions LFP (Local Field Potential) data. If LFP data is present (often in `nwbfile.acquisition` or linked `_ecephys.nwb` files), analyses such as power spectral density during different behavioral states or stimulus conditions could be performed.\n",
    "5.  **Exploring Different NWB Files:** This notebook focused on one main session NWB file. The Dandiset contains other files, including `_image.nwb` (likely containing imaging data if applicable, though this Dandiset focuses on ephys) and `_probe-X_ecephys.nwb` files which typically contain the raw continuous electrophysiology data and LFP. Exploring these specialized files would provide deeper insights into specific data modalities.\n",
    "6.  **Advanced Visualizations:** Create more sophisticated visualizations, such as heatmaps of neural activity across populations, or plots showing the relationship between multiple behavioral variables.\n",
    "7.  **Comparative Analysis:** Compare neural responses to different types of visual stimuli (simple bars vs. movies) described in the Dandiset's protocol.\n",
    "\n",
    "Remember that working with remote NWB files requires careful consideration of data sizes. Always try to load only necessary subsets of data for initial exploration and visualization to manage download times and memory usage effectively. Refer to the `tools_cli.py nwb-file-info` output for detailed paths to specific datasets within the NWB file structure."
   ]
  },
  {
   "cell_type": "markdown",
   "id": "18426ea4",
   "metadata": {},
   "source": [
    "---\n",
    "End of Notebook.\n",
    "\n",
    "To close the NWB file and release the remote file object if you were to run this interactively and wanted to manage resources explicitly (though not strictly necessary for a script that terminates):\n",
    "```python\n",
    "# io.close()\n",
    "# remote_file.close() # If remfile has a close method\n",
    "# h5_file.close()\n",
    "```\n",
    "However, for this automated notebook execution, explicit closing is handled upon script completion."
   ]
  },
  {
   "cell_type": "code",
   "execution_count": null,
   "id": "499821c6",
   "metadata": {},
   "outputs": [],
   "source": [
    "print(\"Notebook execution cell - final check.\")"
   ]
  }
 ],
 "metadata": {
  "jupytext": {
   "cell_metadata_filter": "-all",
   "main_language": "python",
   "notebook_metadata_filter": "-all"
  }
 },
 "nbformat": 4,
 "nbformat_minor": 5
}
