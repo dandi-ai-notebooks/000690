{
 "cells": [
  {
   "cell_type": "markdown",
   "id": "a604ea2c",
   "metadata": {},
   "source": [
    "# Exploring Dandiset 000690: Allen Institute Openscope - Vision2Hippocampus project\n",
    "\n",
    "**Note:** This notebook was AI-generated and has not been fully verified. Please be cautious when interpreting the code or results.\n",
    "\n",
    "## Overview\n",
    "\n",
    "This notebook explores the dataset from the Allen Institute Openscope - Vision2Hippocampus project. The data consists of electrical recordings from mouse brains, aimed at understanding neural activity across various regions.\n",
    "\n",
    "[Dandiset 000690 - Full Details](https://dandiarchive.org/dandiset/000690)\n",
    "\n",
    "The notebook will cover loading the dataset, visualizing local field potentials (LFP), and understanding electrode placements.\n",
    "\n",
    "## Requirements\n",
    "\n",
    "The following Python packages are required to run this notebook:\n",
    "- pynwb\n",
    "- h5py\n",
    "- remfile\n",
    "- pandas\n",
    "- matplotlib\n",
    "- numpy"
   ]
  },
  {
   "cell_type": "markdown",
   "id": "933e7039",
   "metadata": {},
   "source": [
    "## Loading the Dandiset using DANDI API\n",
    "from dandi.dandiapi import DandiAPIClient\n",
    "\n",
    "Connect to DANDI archive\n",
    "client = DandiAPIClient()\n",
    "dandiset = client.get_dandiset(\"000690\")\n",
    "\n",
    "Print basic information about the Dandiset\n",
    "metadata = dandiset.get_raw_metadata()\n",
    "print(f\"Dandiset name: {metadata['name']}\")\n",
    "print(f\"Dandiset URL: {metadata['url']}\")\n",
    "\n",
    "List the assets in the Dandiset\n",
    "assets = list(dandiset.get_assets())\n",
    "print(f\"\\nFound {len(assets)} assets in the dataset\")\n",
    "print(\"\\nFirst 5 assets:\")\n",
    "for asset in assets[:5]:\n",
    "    print(f\"- {asset.path}\")"
   ]
  },
  {
   "cell_type": "markdown",
   "id": "3c732879",
   "metadata": {},
   "source": [
    "## Loading an NWB File\n",
    "\n",
    "We will use the file containing probe-1 recordings.\n",
    "Path: sub-692072/sub-692072_ses-1298465622_probe-1_ecephys.nwb\n",
    "URL: [Direct Download](https://api.dandiarchive.org/api/assets/79686db3-e4ef-4214-89f6-f2589ddb4ffe/download/)\n",
    "\n",
    "import pynwb\n",
    "import h5py\n",
    "import remfile\n",
    "\n",
    "Load NWB file\n",
    "url = \"https://api.dandiarchive.org/api/assets/79686db3-e4ef-4214-89f6-f2589ddb4ffe/download/\"\n",
    "remote_file = remfile.File(url)\n",
    "h5_file = h5py.File(remote_file)\n",
    "io = pynwb.NWBHDF5IO(file=h5_file)\n",
    "nwb = io.read()\n",
    "\n",
    "Display some metadata\n",
    "nwb.session_description, nwb.identifier, nwb.session_start_time"
   ]
  },
  {
   "cell_type": "markdown",
   "id": "db9d5fce",
   "metadata": {},
   "source": [
    "## Visualizing LFP Data\n",
    "\n",
    "Here, we visualize the LFP data recorded from the first channel.\n",
    "\n",
    "import numpy as np\n",
    "import matplotlib.pyplot as plt\n",
    "\n",
    "lfp_data = nwb.acquisition[\"probe_1_lfp_data\"].data\n",
    "timestamps = nwb.acquisition[\"probe_1_lfp_data\"].timestamps\n",
    "\n",
    "plt.figure(figsize=(10, 5))\n",
    "plt.plot(timestamps[:1000], lfp_data[:1000, 0], label=\"Channel 0 LFP\")\n",
    "plt.title(\"LFP Data - First 1000 Points - Channel 0\")\n",
    "plt.xlabel(\"Time (s)\")\n",
    "plt.ylabel(\"Voltage (V)\")\n",
    "plt.legend()\n",
    "plt.grid(True)\n",
    "plt.show()"
   ]
  },
  {
   "cell_type": "markdown",
   "id": "37fe05ff",
   "metadata": {},
   "source": [
    "## Electrode Positions\n",
    "\n",
    "The scatter plot below illustrates the spatial distribution of the electrodes on probe 1.\n",
    "\n",
    "electrodes_table = nwb.acquisition[\"probe_1_lfp_data\"].electrodes.table.to_dataframe()\n",
    "\n",
    "plt.figure(figsize=(8, 8))\n",
    "plt.scatter(electrodes_table[\"x\"], electrodes_table[\"y\"], c=\"r\", label=\"Electrode Positions\")\n",
    "plt.title(\"Electrode Positions\")\n",
    "plt.xlabel(\"X Position\")\n",
    "plt.ylabel(\"Y Position\")\n",
    "plt.legend()\n",
    "plt.grid(True)\n",
    "plt.show()"
   ]
  },
  {
   "cell_type": "markdown",
   "id": "565bfb8f",
   "metadata": {},
   "source": [
    "## Summary\n",
    "\n",
    "This notebook presented an overview of the available data in Dandiset 000690, focusing on LFP visualization and electrode layout. Future analysis could delve into more probing questions, exploring cross-regional neural dynamics or looking at different stimulation conditions."
   ]
  }
 ],
 "metadata": {
  "jupytext": {
   "cell_metadata_filter": "-all",
   "main_language": "python",
   "notebook_metadata_filter": "-all"
  },
  "language_info": {
   "codemirror_mode": {
    "name": "ipython",
    "version": 3
   },
   "file_extension": ".py",
   "mimetype": "text/x-python",
   "name": "python",
   "nbconvert_exporter": "python",
   "pygments_lexer": "ipython3",
   "version": "3.11.10"
  }
 },
 "nbformat": 4,
 "nbformat_minor": 5
}
