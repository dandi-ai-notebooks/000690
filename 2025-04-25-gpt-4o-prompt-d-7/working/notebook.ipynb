{
 "cells": [
  {
   "cell_type": "markdown",
   "id": "b09192ad",
   "metadata": {},
   "source": [
    "# Exploring Dandiset 000690: Allen Institute Openscope - Vision2Hippocampus\n",
    "\n",
    "This notebook is AI-generated and has not been fully verified. Please be cautious when interpreting the code or results.\n",
    "\n",
    "## Overview\n",
    "\n",
    "In this notebook, we are exploring the Allen Institute Openscope - Vision2Hippocampus project. This Dandiset focuses on understanding the neural representations of visual stimuli and their evolution in the mouse brain.\n",
    "\n",
    "**Dandiset Link**: [https://dandiarchive.org/dandiset/000690](https://dandiarchive.org/dandiset/000690)\n",
    "\n",
    "### Contents\n",
    "- Load and explore the Dandiset using DANDI API\n",
    "- Examine Eye Tracking data and visualize corneal reflection tracking\n",
    "\n",
    "## Required Packages\n",
    "\n",
    "The following packages are required for this analysis:\n",
    "- numpy\n",
    "- matplotlib\n",
    "- pynwb\n",
    "- h5py\n",
    "- remfile"
   ]
  },
  {
   "cell_type": "markdown",
   "id": "a581c5d9",
   "metadata": {},
   "source": [
    "## Connect to DANDI Archive and Load Dandiset\n",
    "from dandi.dandiapi import DandiAPIClient\n",
    "\n",
    "Connect to DANDI archive\n",
    "client = DandiAPIClient()\n",
    "dandiset = client.get_dandiset(\"000690\")\n",
    "\n",
    "Print basic information about the Dandiset\n",
    "metadata = dandiset.get_raw_metadata()\n",
    "print(f\"Dandiset name: {metadata['name']}\")\n",
    "print(f\"Dandiset URL: {metadata['url']}\")\n",
    "\n",
    "List the assets in the Dandiset\n",
    "assets = list(dandiset.get_assets())\n",
    "print(f\"\\nFound {len(assets)} assets in the dataset\")\n",
    "print(\"\\nFirst 5 assets:\")\n",
    "for asset in assets[:5]:\n",
    "    print(f\"- {asset.path}\")"
   ]
  },
  {
   "cell_type": "markdown",
   "id": "a2bbdf0d",
   "metadata": {},
   "source": [
    "## Loading the Eye Tracking Data\n",
    "We will load an NWB file from the Dandiset to explore the eye tracking data, particularly focusing on corneal reflection tracking.\n",
    "\n",
    "**File Path**: `sub-692072/sub-692072_ses-1298465622.nwb`\n",
    "\n",
    "**NWB File URL**: [Neurosift Link](https://neurosift.app/nwb?url=https://api.dandiarchive.org/api/assets/fbcd4fe5-7107-41b2-b154-b67f783f23dc/download/&dandisetId=000690&dandisetVersion=draft)\n",
    "\n",
    "import pynwb\n",
    "import h5py\n",
    "import remfile\n",
    "\n",
    "Load\n",
    "url = \"https://api.dandiarchive.org/api/assets/fbcd4fe5-7107-41b2-b154-b67f783f23dc/download/\"\n",
    "remote_file = remfile.File(url)\n",
    "h5_file = h5py.File(remote_file)\n",
    "io = pynwb.NWBHDF5IO(file=h5_file)\n",
    "nwb = io.read()\n",
    "\n",
    "Print basic session information\n",
    "print(f\"Session ID: {nwb.session_id}\")\n",
    "print(f\"Institution: {nwb.institution}\")\n",
    "print(f\"Start time: {nwb.session_start_time}\")"
   ]
  },
  {
   "cell_type": "markdown",
   "id": "4d28beca",
   "metadata": {},
   "source": [
    "## Visualizing Corneal Reflection Tracking Data\n",
    "The following plot shows the corneal reflection tracking coordinates ('x' and 'y') over time for the first 1000 sample points. This provides insight into the accuracy and stability of eye tracking across a session.\n",
    "\n",
    "import matplotlib.pyplot as plt\n",
    "\n",
    "Accessing corneal reflection tracking data\n",
    "corneal_reflection_tracking = nwb.acquisition[\"EyeTracking\"].spatial_series[\"corneal_reflection_tracking\"]\n",
    "\n",
    "Slice the first 1000 data points for visualization\n",
    "data = corneal_reflection_tracking.data[:1000, :]\n",
    "\n",
    "plt.figure(figsize=(10, 5))\n",
    "plt.plot(data[:, 0], label='x-coordinate')\n",
    "plt.plot(data[:, 1], label='y-coordinate')\n",
    "plt.title('Corneal Reflection Tracking (First 1000 points)')\n",
    "plt.xlabel('Sample Index')\n",
    "plt.ylabel('Position (pixels)')\n",
    "plt.legend()\n",
    "\n",
    "Show plot inline\n",
    "plt.show()"
   ]
  },
  {
   "cell_type": "markdown",
   "id": "bda11941",
   "metadata": {},
   "source": [
    "## Summary of Findings\n",
    "The corneal reflection tracking data shows fluctuations in the x-coordinate from approximately 370 to 380 pixels, and the y-coordinate from 260 to 280 pixels, indicating moderate stability. Noticeable peaks around certain indices might correspond to specific events or stimuli during sessions. This suggests potential for correlating these fluctuations with corresponding neural response data, providing deeper insights into the subject's visual processing abilities.\n",
    "Future analysis could focus on aligning these peaks with timestamps of visual stimuli or other recorded neural activity, offering a broader understanding of sensory integration in the brain."
   ]
  }
 ],
 "metadata": {
  "jupytext": {
   "cell_metadata_filter": "-all",
   "main_language": "python",
   "notebook_metadata_filter": "-all"
  },
  "language_info": {
   "codemirror_mode": {
    "name": "ipython",
    "version": 3
   },
   "file_extension": ".py",
   "mimetype": "text/x-python",
   "name": "python",
   "nbconvert_exporter": "python",
   "pygments_lexer": "ipython3",
   "version": "3.11.10"
  }
 },
 "nbformat": 4,
 "nbformat_minor": 5
}
