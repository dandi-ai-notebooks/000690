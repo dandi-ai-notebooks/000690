{
 "cells": [
  {
   "cell_type": "markdown",
   "id": "beda2557",
   "metadata": {},
   "source": [
    "# Exploring Dandiset 000690: Allen Institute Openscope - Vision2Hippocampus project\n",
    "\n",
    "This notebook was AI-generated and has not been fully verified. Users should be cautious when interpreting the code or results presented.\n",
    "\n",
    "## Dandiset Overview\n",
    "\n",
    "This Dandiset, \"Allen Institute Openscope - Vision2Hippocampus project\", contains extracellular electrophysiology data from mice presented with simple and complex visual stimuli.\n",
    "\n",
    "You can find more information about this Dandiset here: https://dandiarchive.org/dandiset/000690/0.250326.0015\n",
    "\n",
    "## Notebook Contents\n",
    "\n",
    "This notebook will demonstrate how to:\n",
    "- Load the Dandiset metadata and list assets using the DANDI API.\n",
    "- Load a specific NWB file from the Dandiset.\n",
    "- Explore the structure and metadata of the selected NWB file.\n",
    "- Access and visualize a subset of the electrophysiology data.\n",
    "\n",
    "## Required Packages\n",
    "\n",
    "The following packages are required to run this notebook:\n",
    "- `dandi`\n",
    "- `pynwb`\n",
    "- `h5py`\n",
    "- `remfile`\n",
    "- `numpy`\n",
    "- `matplotlib`\n",
    "- `seaborn`\n",
    "- `pandas`"
   ]
  },
  {
   "cell_type": "markdown",
   "id": "b5c1fd4f",
   "metadata": {},
   "source": [
    "## Loading the Dandiset\n",
    "\n",
    "We will use the DANDI API to connect to the archive and load the specified Dandiset."
   ]
  },
  {
   "cell_type": "code",
   "execution_count": 1,
   "id": "954da7f7",
   "metadata": {
    "execution": {
     "iopub.execute_input": "2025-05-09T18:34:54.943938Z",
     "iopub.status.busy": "2025-05-09T18:34:54.943101Z",
     "iopub.status.idle": "2025-05-09T18:34:55.490176Z",
     "shell.execute_reply": "2025-05-09T18:34:55.489399Z"
    }
   },
   "outputs": [
    {
     "name": "stdout",
     "output_type": "stream",
     "text": [
      "Dandiset name: Allen Institute Openscope - Vision2Hippocampus project\n",
      "Dandiset URL: https://dandiarchive.org/dandiset/000690/0.250326.0015\n",
      "\n",
      "First 5 assets:\n",
      "- sub-692077/sub-692077_ses-1300222049_probe-4_ecephys.nwb (ID: b0ea16d5-42eb-4b56-87cc-7d7b7efab4db)\n",
      "- sub-692077/sub-692077_ses-1300222049_probe-3_ecephys.nwb (ID: e0ad1921-75f1-43ed-aa86-8e1a45a9f49d)\n",
      "- sub-692077/sub-692077_ses-1300222049_probe-2_ecephys.nwb (ID: 97712120-158d-492a-ae21-61515335bc18)\n",
      "- sub-692077/sub-692077_ses-1300222049_probe-0_ecephys.nwb (ID: de12ccea-83a7-4d7f-937c-4c02e4d3bf44)\n",
      "- sub-692077/sub-692077_ses-1300222049.nwb (ID: 8ae65111-a130-47fc-a108-55e695374739)\n"
     ]
    }
   ],
   "source": [
    "from itertools import islice\n",
    "from dandi.dandiapi import DandiAPIClient\n",
    "\n",
    "# Connect to DANDI archive\n",
    "client = DandiAPIClient()\n",
    "dandiset = client.get_dandiset(\"000690\", \"0.250326.0015\")\n",
    "\n",
    "# Print basic information about the Dandiset\n",
    "metadata = dandiset.get_raw_metadata()\n",
    "print(f\"Dandiset name: {metadata['name']}\")\n",
    "print(f\"Dandiset URL: {metadata['url']}\")\n",
    "\n",
    "# List some assets in the Dandiset\n",
    "assets = dandiset.get_assets()\n",
    "print(\"\\nFirst 5 assets:\")\n",
    "for asset in islice(assets, 5):\n",
    "    print(f\"- {asset.path} (ID: {asset.identifier})\")"
   ]
  },
  {
   "cell_type": "markdown",
   "id": "de774c02",
   "metadata": {},
   "source": [
    "## Loading an NWB file\n",
    "\n",
    "We will now load a specific NWB file from the Dandiset using its asset ID and utilize `remfile` and `h5py` for remote access.\n",
    "\n",
    "We are loading the file at path `sub-692072/sub-692072_ses-1298465622_probe-0_ecephys.nwb` with asset ID `ba8760f9-91fe-4c1c-97e6-590bed6a783b`.\n",
    "\n",
    "The URL for this asset is: https://api.dandiarchive.org/api/assets/ba8760f9-91fe-4c1c-97e6-590bed6a783b/download/"
   ]
  },
  {
   "cell_type": "code",
   "execution_count": 2,
   "id": "ab1d8d42",
   "metadata": {
    "execution": {
     "iopub.execute_input": "2025-05-09T18:34:55.493348Z",
     "iopub.status.busy": "2025-05-09T18:34:55.493006Z",
     "iopub.status.idle": "2025-05-09T18:34:56.064312Z",
     "shell.execute_reply": "2025-05-09T18:34:56.064048Z"
    }
   },
   "outputs": [
    {
     "ename": "Exception",
     "evalue": "Error getting file length: 404 Not Found",
     "output_type": "error",
     "traceback": [
      "\u001b[0;31m---------------------------------------------------------------------------\u001b[0m",
      "\u001b[0;31mException\u001b[0m                                 Traceback (most recent call last)",
      "Cell \u001b[0;32mIn[2], line 7\u001b[0m\n\u001b[1;32m      5\u001b[0m \u001b[38;5;66;03m# Load the NWB file\u001b[39;00m\n\u001b[1;32m      6\u001b[0m url \u001b[38;5;241m=\u001b[39m \u001b[38;5;124m\"\u001b[39m\u001b[38;5;124mhttps://api.dandiarchive.org/api/assets/ba8760f9-91fe-4c1c-b154-b67f783f23dc/download/\u001b[39m\u001b[38;5;124m\"\u001b[39m \u001b[38;5;66;03m# corrected url\u001b[39;00m\n\u001b[0;32m----> 7\u001b[0m remote_file \u001b[38;5;241m=\u001b[39m \u001b[43mremfile\u001b[49m\u001b[38;5;241;43m.\u001b[39;49m\u001b[43mFile\u001b[49m\u001b[43m(\u001b[49m\u001b[43murl\u001b[49m\u001b[43m)\u001b[49m\n\u001b[1;32m      8\u001b[0m h5_file \u001b[38;5;241m=\u001b[39m h5py\u001b[38;5;241m.\u001b[39mFile(remote_file)\n\u001b[1;32m      9\u001b[0m io \u001b[38;5;241m=\u001b[39m pynwb\u001b[38;5;241m.\u001b[39mNWBHDF5IO(file\u001b[38;5;241m=\u001b[39mh5_file)\n",
      "File \u001b[0;32m~/miniconda3/envs/dev/lib/python3.12/site-packages/remfile/RemFile.py:77\u001b[0m, in \u001b[0;36mRemFile.__init__\u001b[0;34m(self, url, verbose, disk_cache, _min_chunk_size, _max_cache_size, _chunk_increment_factor, _bytes_per_thread, _max_threads, _max_chunk_size, _impose_request_failures_for_testing, _size, _use_session)\u001b[0m\n\u001b[1;32m     75\u001b[0m     \u001b[38;5;28mself\u001b[39m\u001b[38;5;241m.\u001b[39mlength \u001b[38;5;241m=\u001b[39m \u001b[38;5;28mint\u001b[39m(response\u001b[38;5;241m.\u001b[39mheaders[\u001b[38;5;124m\"\u001b[39m\u001b[38;5;124mContent-Length\u001b[39m\u001b[38;5;124m\"\u001b[39m])\n\u001b[1;32m     76\u001b[0m \u001b[38;5;28;01melse\u001b[39;00m:\n\u001b[0;32m---> 77\u001b[0m     \u001b[38;5;28;01mraise\u001b[39;00m \u001b[38;5;167;01mException\u001b[39;00m(\n\u001b[1;32m     78\u001b[0m         \u001b[38;5;124mf\u001b[39m\u001b[38;5;124m\"\u001b[39m\u001b[38;5;124mError getting file length: \u001b[39m\u001b[38;5;132;01m{\u001b[39;00mresponse\u001b[38;5;241m.\u001b[39mstatus_code\u001b[38;5;132;01m}\u001b[39;00m\u001b[38;5;124m \u001b[39m\u001b[38;5;132;01m{\u001b[39;00mresponse\u001b[38;5;241m.\u001b[39mreason\u001b[38;5;132;01m}\u001b[39;00m\u001b[38;5;124m\"\u001b[39m\n\u001b[1;32m     79\u001b[0m     )\n\u001b[1;32m     80\u001b[0m \u001b[38;5;66;03m# Close the connection without reading the content to avoid downloading the whole file\u001b[39;00m\n\u001b[1;32m     81\u001b[0m response\u001b[38;5;241m.\u001b[39mclose()\n",
      "\u001b[0;31mException\u001b[0m: Error getting file length: 404 Not Found"
     ]
    }
   ],
   "source": [
    "import pynwb\n",
    "import h5py\n",
    "import remfile\n",
    "\n",
    "# Load the NWB file\n",
    "url = \"https://api.dandiarchive.org/api/assets/ba8760f9-91fe-4c1c-b154-b67f783f23dc/download/\" # corrected url\n",
    "remote_file = remfile.File(url)\n",
    "h5_file = h5py.File(remote_file)\n",
    "io = pynwb.NWBHDF5IO(file=h5_file)\n",
    "nwb = io.read()\n",
    "\n",
    "# Access basic NWB file metadata\n",
    "print(f\"NWB file session description: {nwb.session_description}\")\n",
    "print(f\"NWB file identifier: {nwb.identifier}\")\n",
    "print(f\"NWB file session start time: {nwb.session_start_time}\")"
   ]
  },
  {
   "cell_type": "markdown",
   "id": "63e5c996",
   "metadata": {},
   "source": [
    "## NWB file contents summary\n",
    "\n",
    "This NWB file contains extracellular electrophysiology data from probe 0 taken during session 1298465622 for subject 692072.\n",
    "\n",
    "The main electrical series data is stored under `acquisition['probe_0_lfp']['electrical_series']['probe_0_lfp_data']`.\n",
    "\n",
    "The metadata for the electrodes is available in `nwb.electrodes`.\n",
    "\n",
    "Here is a summary of the relevant parts of the NWB file structure:\n",
    "\n",
    "```\n",
    "├── acquisition\n",
    "│   └── probe_0_lfp (LFP)\n",
    "│       └── electrical_series\n",
    "│           └── probe_0_lfp_data (ElectricalSeries)\n",
    "│               ├── data (Dataset: shape (10117092, 95), dtype float32)\n",
    "│               ├── timestamps (Dataset: shape (10117092,), dtype float64)\n",
    "│               └── electrodes (DynamicTableRegion) - links to nwb.electrodes\n",
    "├── electrodes (DynamicTable)\n",
    "│   ├── id\n",
    "│   ├── location\n",
    "│   ├── group\n",
    "│   ├── group_name\n",
    "│   ├── probe_vertical_position\n",
    "│   ├── probe_horizontal_position\n",
    "│   ├── probe_id\n",
    "│   ├── local_index\n",
    "│   ├── valid_data\n",
    "│   ├── x\n",
    "│   ├── y\n",
    "│   ├── z\n",
    "│   ├── imp\n",
    "│   └── filtering\n",
    "├── electrode_groups\n",
    "│   └── probeA (EcephysElectrodeGroup)\n",
    "└── devices\n",
    "   └── probeA (EcephysProbe)\n",
    "\n",
    "```\n",
    "\n",
    "You can explore this NWB file on Neurosift: https://neurosift.app/nwb?url=https://api.dandiarchive.org/api/assets/ba8760f9-7107-41b2-b154-b67f783f23dc/download/&dandisetId=000690&dandisetVersion=0.250326.0015"
   ]
  },
  {
   "cell_type": "markdown",
   "id": "4290efa3",
   "metadata": {},
   "source": [
    "## Exploring Electrode Metadata\n",
    "\n",
    "We can view the electrode metadata as a pandas DataFrame to understand the channels and their properties."
   ]
  },
  {
   "cell_type": "code",
   "execution_count": 3,
   "id": "0fe227bd",
   "metadata": {
    "execution": {
     "iopub.execute_input": "2025-05-09T18:34:56.065475Z",
     "iopub.status.busy": "2025-05-09T18:34:56.065372Z",
     "iopub.status.idle": "2025-05-09T18:34:56.073230Z",
     "shell.execute_reply": "2025-05-09T18:34:56.073007Z"
    }
   },
   "outputs": [
    {
     "ename": "NameError",
     "evalue": "name 'nwb' is not defined",
     "output_type": "error",
     "traceback": [
      "\u001b[0;31m---------------------------------------------------------------------------\u001b[0m",
      "\u001b[0;31mNameError\u001b[0m                                 Traceback (most recent call last)",
      "Cell \u001b[0;32mIn[3], line 4\u001b[0m\n\u001b[1;32m      1\u001b[0m \u001b[38;5;28;01mimport\u001b[39;00m\u001b[38;5;250m \u001b[39m\u001b[38;5;21;01mpandas\u001b[39;00m\u001b[38;5;250m \u001b[39m\u001b[38;5;28;01mas\u001b[39;00m\u001b[38;5;250m \u001b[39m\u001b[38;5;21;01mpd\u001b[39;00m\n\u001b[1;32m      3\u001b[0m \u001b[38;5;66;03m# Convert electrode table to DataFrame\u001b[39;00m\n\u001b[0;32m----> 4\u001b[0m electrode_table \u001b[38;5;241m=\u001b[39m \u001b[43mnwb\u001b[49m\u001b[38;5;241m.\u001b[39melectrodes\u001b[38;5;241m.\u001b[39mto_dataframe()\n\u001b[1;32m      6\u001b[0m \u001b[38;5;66;03m# Display the first few rows of the electrode table\u001b[39;00m\n\u001b[1;32m      7\u001b[0m \u001b[38;5;28mprint\u001b[39m(\u001b[38;5;124m\"\u001b[39m\u001b[38;5;124mElectrode table (first 5 rows):\u001b[39m\u001b[38;5;124m\"\u001b[39m)\n",
      "\u001b[0;31mNameError\u001b[0m: name 'nwb' is not defined"
     ]
    }
   ],
   "source": [
    "import pandas as pd\n",
    "\n",
    "# Convert electrode table to DataFrame\n",
    "electrode_table = nwb.electrodes.to_dataframe()\n",
    "\n",
    "# Display the first few rows of the electrode table\n",
    "print(\"Electrode table (first 5 rows):\")\n",
    "print(electrode_table.head())\n",
    "\n",
    "# Print the columns to see available metadata\n",
    "print(\"\\nElectrode table columns:\", electrode_table.columns.tolist())"
   ]
  },
  {
   "cell_type": "markdown",
   "id": "a3656c2e",
   "metadata": {},
   "source": [
    "## Loading and Visualizing LFP Data\n",
    "\n",
    "We will load a small subset of the LFP data for visualization. Since the dataset is large, we will only load the first 10,000 time points for the first 10 channels."
   ]
  },
  {
   "cell_type": "code",
   "execution_count": 4,
   "id": "eee9e267",
   "metadata": {
    "execution": {
     "iopub.execute_input": "2025-05-09T18:34:56.074411Z",
     "iopub.status.busy": "2025-05-09T18:34:56.074324Z",
     "iopub.status.idle": "2025-05-09T18:34:56.515711Z",
     "shell.execute_reply": "2025-05-09T18:34:56.515458Z"
    }
   },
   "outputs": [
    {
     "ename": "NameError",
     "evalue": "name 'nwb' is not defined",
     "output_type": "error",
     "traceback": [
      "\u001b[0;31m---------------------------------------------------------------------------\u001b[0m",
      "\u001b[0;31mNameError\u001b[0m                                 Traceback (most recent call last)",
      "Cell \u001b[0;32mIn[4], line 9\u001b[0m\n\u001b[1;32m      6\u001b[0m sns\u001b[38;5;241m.\u001b[39mset_theme()\n\u001b[1;32m      8\u001b[0m \u001b[38;5;66;03m# Access the LFP data and timestamps datasets\u001b[39;00m\n\u001b[0;32m----> 9\u001b[0m lfp_data_dataset \u001b[38;5;241m=\u001b[39m \u001b[43mnwb\u001b[49m\u001b[38;5;241m.\u001b[39macquisition[\u001b[38;5;124m'\u001b[39m\u001b[38;5;124mprobe_0_lfp\u001b[39m\u001b[38;5;124m'\u001b[39m][\u001b[38;5;124m'\u001b[39m\u001b[38;5;124melectrical_series\u001b[39m\u001b[38;5;124m'\u001b[39m][\u001b[38;5;124m'\u001b[39m\u001b[38;5;124mprobe_0_lfp_data\u001b[39m\u001b[38;5;124m'\u001b[39m]\u001b[38;5;241m.\u001b[39mdata\n\u001b[1;32m     10\u001b[0m lfp_timestamps_dataset \u001b[38;5;241m=\u001b[39m nwb\u001b[38;5;241m.\u001b[39macquisition[\u001b[38;5;124m'\u001b[39m\u001b[38;5;124mprobe_0_lfp\u001b[39m\u001b[38;5;124m'\u001b[39m][\u001b[38;5;124m'\u001b[39m\u001b[38;5;124melectrical_series\u001b[39m\u001b[38;5;124m'\u001b[39m][\u001b[38;5;124m'\u001b[39m\u001b[38;5;124mprobe_0_lfp_data\u001b[39m\u001b[38;5;124m'\u001b[39m]\u001b[38;5;241m.\u001b[39mtimestamps\n\u001b[1;32m     12\u001b[0m \u001b[38;5;66;03m# Define the subset to load\u001b[39;00m\n",
      "\u001b[0;31mNameError\u001b[0m: name 'nwb' is not defined"
     ]
    }
   ],
   "source": [
    "import numpy as np\n",
    "import matplotlib.pyplot as plt\n",
    "import seaborn as sns\n",
    "\n",
    "# Set seaborn theme for better visualization\n",
    "sns.set_theme()\n",
    "\n",
    "# Access the LFP data and timestamps datasets\n",
    "lfp_data_dataset = nwb.acquisition['probe_0_lfp']['electrical_series']['probe_0_lfp_data'].data\n",
    "lfp_timestamps_dataset = nwb.acquisition['probe_0_lfp']['electrical_series']['probe_0_lfp_data'].timestamps\n",
    "\n",
    "# Define the subset to load\n",
    "num_timepoints = 10000\n",
    "num_channels = 10\n",
    "\n",
    "# Load the subset of data and timestamps\n",
    "# Note: We load a slice of the dataset directly to avoid loading the entire data into memory\n",
    "lfp_data_subset = lfp_data_dataset[0:num_timepoints, 0:num_channels]\n",
    "lfp_timestamps_subset = lfp_timestamps_dataset[0:num_timepoints]\n",
    "\n",
    "print(f\"\\nLoaded LFP data subset with shape: {lfp_data_subset.shape}\")\n",
    "print(f\"Loaded LFP timestamps subset with shape: {lfp_timestamps_subset.shape}\")\n",
    "\n",
    "# Visualize the LFP data subset\n",
    "plt.figure(figsize=(12, 6))\n",
    "for i in range(num_channels):\n",
    "    plt.plot(lfp_timestamps_subset, lfp_data_subset[:, i] + i * 100, lw=0.5) # Offset channels for visibility\n",
    "\n",
    "plt.xlabel(\"Time (s)\")\n",
    "plt.ylabel(\"Channel (offset for visibility)\")\n",
    "plt.title(\"Subset of LFP Data\")\n",
    "plt.grid(True)\n",
    "plt.show()"
   ]
  },
  {
   "cell_type": "markdown",
   "id": "e6fd5e03",
   "metadata": {},
   "source": [
    "## Summary and Future Directions\n",
    "\n",
    "This notebook provided a basic introduction to accessing and exploring the electrophysiology data within Dandiset 000690. We demonstrated how to load the Dandiset, inspect assets, load an NWB file, view electrode metadata, and visualize a subset of the LFP data.\n",
    "\n",
    "Future analysis could involve:\n",
    "- Exploring other assets in the Dandiset, including potentially image data.\n",
    "- Analyzing the LFP data in more detail (e.g., spectral analysis).\n",
    "- Investigating the relationship between the neural activity and the presented visual stimuli.\n",
    "- Utilizing spike sorting results if available in other NWB files within the Dandiset.\n",
    "\n",
    "Remember to consult the Dandiset metadata and the NWB file structure for more detailed information and potential avenues for further research."
   ]
  },
  {
   "cell_type": "code",
   "execution_count": 5,
   "id": "4c0c6538",
   "metadata": {
    "execution": {
     "iopub.execute_input": "2025-05-09T18:34:56.517055Z",
     "iopub.status.busy": "2025-05-09T18:34:56.516954Z",
     "iopub.status.idle": "2025-05-09T18:34:56.518749Z",
     "shell.execute_reply": "2025-05-09T18:34:56.518523Z"
    }
   },
   "outputs": [],
   "source": [
    "# No need to explicitly close the NWB file or remfile"
   ]
  }
 ],
 "metadata": {
  "jupytext": {
   "cell_metadata_filter": "-all",
   "main_language": "python",
   "notebook_metadata_filter": "-all"
  },
  "language_info": {
   "codemirror_mode": {
    "name": "ipython",
    "version": 3
   },
   "file_extension": ".py",
   "mimetype": "text/x-python",
   "name": "python",
   "nbconvert_exporter": "python",
   "pygments_lexer": "ipython3",
   "version": "3.12.2"
  }
 },
 "nbformat": 4,
 "nbformat_minor": 5
}
